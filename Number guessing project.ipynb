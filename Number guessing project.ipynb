{
 "cells": [
  {
   "cell_type": "code",
   "execution_count": 1,
   "id": "b5daae77",
   "metadata": {},
   "outputs": [
    {
     "name": "stdout",
     "output_type": "stream",
     "text": [
      "Hey, What's ur name? tina\n",
      "Lovely to meet you! tina\n",
      "Do You want to play guessing game with me? yes\n",
      "Alright tina I am thinking about a number between 1 and 100 and you have 10 chances to guess it ;D\n",
      "Lets get started\n",
      "Guess the number 9\n",
      "Your guess was too low: Guess a number higher than  9\n",
      "9 Guesses Left\n",
      "Guess the number 30\n",
      "Your guess was too low: Guess a number higher than  30\n",
      "8 Guesses Left\n",
      "Guess the number 50\n",
      "Your guess was too low: Guess a number higher than  50\n",
      "7 Guesses Left\n",
      "Guess the number 70\n",
      "Your guess was too low: Guess a number higher than  70\n",
      "6 Guesses Left\n",
      "Guess the number 90\n",
      "Your guess was too low: Guess a number higher than  90\n",
      "5 Guesses Left\n",
      "Guess the number 99\n",
      "Your guess was too high: Guess a number lower than  99\n",
      "4 Guesses Left\n",
      "Guess the number 95\n",
      "Your guess was too low: Guess a number higher than  95\n",
      "3 Guesses Left\n",
      "Guess the number 97\n",
      "YOU WIN!\n",
      "You guessed the number in 8 tries!\n",
      "GAME OVER\n",
      "Number is  97\n",
      "Thanks for playing :D\n"
     ]
    }
   ],
   "source": [
    "import random\n",
    "\n",
    "n = random.randint(1, 100)\n",
    "count = 1\n",
    "guess_chances = 10\n",
    "player_name = input(\"Hey, What's ur name? \")\n",
    "\n",
    "print('Lovely to meet you! ' + player_name)\n",
    "\n",
    "answer = input('Do You want to play guessing game with me? ')\n",
    "if answer == 'no':\n",
    "  print('oh okay, maybe next time')\n",
    "elif answer == 'yes' :\n",
    "  print('Alright ' + player_name + ' I am thinking about a number between 1 and 100 and you have 10 chances to guess it ;D')\n",
    "  print('Lets get started')\n",
    "  while 1 <= guess_chances:\n",
    "    num = int(eval(input(\"Guess the number \" )))\n",
    "    if num > n:\n",
    "      print('Your guess was too high: Guess a number lower than ', num)\n",
    "    elif num < n:\n",
    "      print('Your guess was too low: Guess a number higher than ', num)\n",
    "    else:\n",
    "      print('YOU WIN!')\n",
    "      print('You guessed the number in ' + str(count) + ' tries!')\n",
    "      break\n",
    "    guess_chances -= 1\n",
    "    print(guess_chances, 'Guesses Left')\n",
    "    count += 1\n",
    "\n",
    "  print(\"GAME OVER\")\n",
    "  print(\"Number is \", n)\n",
    "  print('Thanks for playing :D')\n",
    "\n",
    "else:\n",
    "  print('sorry, I didnt get it')"
   ]
  },
  {
   "cell_type": "code",
   "execution_count": null,
   "id": "8d0b205f",
   "metadata": {},
   "outputs": [],
   "source": []
  }
 ],
 "metadata": {
  "kernelspec": {
   "display_name": "Python 3 (ipykernel)",
   "language": "python",
   "name": "python3"
  },
  "language_info": {
   "codemirror_mode": {
    "name": "ipython",
    "version": 3
   },
   "file_extension": ".py",
   "mimetype": "text/x-python",
   "name": "python",
   "nbconvert_exporter": "python",
   "pygments_lexer": "ipython3",
   "version": "3.11.5"
  }
 },
 "nbformat": 4,
 "nbformat_minor": 5
}
