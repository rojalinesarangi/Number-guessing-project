{
 "cells": [
  {
   "cell_type": "code",
   "execution_count": 1,
   "id": "7da91bf4",
   "metadata": {},
   "outputs": [
    {
     "name": "stdout",
     "output_type": "stream",
     "text": [
      "what is your name?tina\n",
      "Goodluck! tina\n",
      "Guess the characters\n",
      "_\n",
      "_\n",
      "_\n",
      "_\n",
      "_\n",
      "_\n",
      "_\n",
      "_\n",
      "\n",
      "Guess a character:n\n",
      "wrong\n",
      "you have 9 more guesses\n",
      "_\n",
      "_\n",
      "_\n",
      "_\n",
      "_\n",
      "_\n",
      "_\n",
      "_\n",
      "\n",
      "Guess a character:p\n",
      "_\n",
      "_\n",
      "_\n",
      "p_\n",
      "_\n",
      "_\n",
      "_\n",
      "\n",
      "Guess a character:c\n",
      "c_\n",
      "_\n",
      "p_\n",
      "_\n",
      "_\n",
      "_\n",
      "\n",
      "Guess a character:o\n",
      "co_\n",
      "p_\n",
      "_\n",
      "_\n",
      "_\n",
      "\n",
      "Guess a character:computer\n",
      "computeryou win\n",
      "The word is: computer\n"
     ]
    }
   ],
   "source": [
    "import random\n",
    "name=input('what is your name?')\n",
    "print('Goodluck!',name)\n",
    "words=['computer','laptop','mouse','notepad','mathematics','python']\n",
    "word=random.choice(words)\n",
    "print('Guess the characters')\n",
    "guesses=''\n",
    "turns=10\n",
    "while turns > 0:\n",
    "    failed = 0\n",
    "    for char in word:\n",
    "        if char in guesses:\n",
    "            print(char,end='')\n",
    "        else:\n",
    "            print('_')\n",
    "            failed += 1\n",
    "    if failed == 0:\n",
    "        print ('you win')\n",
    "        print ('The word is:',word)\n",
    "        break\n",
    "    print()\n",
    "    guess=input('Guess a character:')\n",
    "    guesses += guess\n",
    "    if guess not in word:\n",
    "        turns -= 1\n",
    "        print('wrong')\n",
    "        print('you have', + turns , 'more guesses')\n",
    "        if turns == 0:\n",
    "            print('you loose')\n"
   ]
  },
  {
   "cell_type": "code",
   "execution_count": null,
   "id": "911eb886",
   "metadata": {},
   "outputs": [],
   "source": []
  }
 ],
 "metadata": {
  "kernelspec": {
   "display_name": "Python 3 (ipykernel)",
   "language": "python",
   "name": "python3"
  },
  "language_info": {
   "codemirror_mode": {
    "name": "ipython",
    "version": 3
   },
   "file_extension": ".py",
   "mimetype": "text/x-python",
   "name": "python",
   "nbconvert_exporter": "python",
   "pygments_lexer": "ipython3",
   "version": "3.11.5"
  }
 },
 "nbformat": 4,
 "nbformat_minor": 5
}
